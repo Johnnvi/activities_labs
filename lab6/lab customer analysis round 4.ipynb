{
 "cells": [
  {
   "cell_type": "code",
   "execution_count": 6,
   "id": "f3f8b69c-a36b-46f3-a1e0-cc4c7516df43",
   "metadata": {
    "tags": []
   },
   "outputs": [],
   "source": [
    "import pandas as pd\n",
    "import numpy as np\n",
    "from scipy.stats import norm\n",
    "import math\n",
    "import matplotlib.pyplot as plt\n",
    "%matplotlib inline"
   ]
  },
  {
   "cell_type": "code",
   "execution_count": 7,
   "id": "875a4e33-b71d-4473-a1ba-98ae4a9594de",
   "metadata": {
    "tags": []
   },
   "outputs": [],
   "source": [
    "normal = norm(0, math.sqrt(9))\n",
    "# print(normal.pdf(4))\n",
    "# print(normal.cdf(2))\n",
    "# print(normal.rvs())"
   ]
  },
  {
   "cell_type": "code",
   "execution_count": 8,
   "id": "829ab257-829c-4340-ad2c-b9af14e6534b",
   "metadata": {
    "tags": []
   },
   "outputs": [],
   "source": [
    "data = pd.read_csv('marketing_customer_analysis.csv')"
   ]
  },
  {
   "cell_type": "markdown",
   "id": "decf09b3-c640-4d26-80c3-a719a2ae7f57",
   "metadata": {},
   "source": [
    "1. Check the data types of the columns. Get the numeric data into dataframe called numerical and categorical columns in a dataframe called categoricals. (You can use np.number and np.object to select the numerical data types and categorical data types respectively)"
   ]
  },
  {
   "cell_type": "code",
   "execution_count": 9,
   "id": "3c99120d-abd8-4b8c-abfb-7e8d3c00e736",
   "metadata": {},
   "outputs": [
    {
     "data": {
      "text/plain": [
       "Customer                          object\n",
       "State                             object\n",
       "Customer Lifetime Value          float64\n",
       "Response                          object\n",
       "Coverage                          object\n",
       "Education                         object\n",
       "Effective To Date                 object\n",
       "EmploymentStatus                  object\n",
       "Gender                            object\n",
       "Income                             int64\n",
       "Location Code                     object\n",
       "Marital Status                    object\n",
       "Monthly Premium Auto               int64\n",
       "Months Since Last Claim            int64\n",
       "Months Since Policy Inception      int64\n",
       "Number of Open Complaints          int64\n",
       "Number of Policies                 int64\n",
       "Policy Type                       object\n",
       "Policy                            object\n",
       "Renew Offer Type                  object\n",
       "Sales Channel                     object\n",
       "Total Claim Amount               float64\n",
       "Vehicle Class                     object\n",
       "Vehicle Size                      object\n",
       "dtype: object"
      ]
     },
     "execution_count": 9,
     "metadata": {},
     "output_type": "execute_result"
    }
   ],
   "source": [
    "data.dtypes"
   ]
  },
  {
   "cell_type": "code",
   "execution_count": 12,
   "id": "226922a2-21c2-4773-838c-8aadccb104ef",
   "metadata": {},
   "outputs": [
    {
     "ename": "NameError",
     "evalue": "name 'numerical' is not defined",
     "output_type": "error",
     "traceback": [
      "\u001b[1;31m---------------------------------------------------------------------------\u001b[0m",
      "\u001b[1;31mNameError\u001b[0m                                 Traceback (most recent call last)",
      "\u001b[1;32m~\\AppData\\Local\\Temp/ipykernel_43492/2513820481.py\u001b[0m in \u001b[0;36m<module>\u001b[1;34m\u001b[0m\n\u001b[1;32m----> 1\u001b[1;33m \u001b[0mnumerical\u001b[0m \u001b[1;33m=\u001b[0m \u001b[0mdata\u001b[0m\u001b[1;33m.\u001b[0m\u001b[0mselect_dtypes\u001b[0m\u001b[1;33m(\u001b[0m\u001b[0minclude\u001b[0m\u001b[1;33m=\u001b[0m\u001b[0mnumerical\u001b[0m\u001b[1;33m)\u001b[0m\u001b[1;33m\u001b[0m\u001b[1;33m\u001b[0m\u001b[0m\n\u001b[0m\u001b[0;32m      2\u001b[0m \u001b[1;31m#categorical =\u001b[0m\u001b[1;33m\u001b[0m\u001b[1;33m\u001b[0m\u001b[0m\n\u001b[0;32m      3\u001b[0m \u001b[0mnumerical\u001b[0m\u001b[1;33m\u001b[0m\u001b[1;33m\u001b[0m\u001b[0m\n",
      "\u001b[1;31mNameError\u001b[0m: name 'numerical' is not defined"
     ]
    }
   ],
   "source": [
    "numerical = data.select_dtypes(include=numerical)\n",
    "#categorical = \n",
    "numerical"
   ]
  },
  {
   "cell_type": "markdown",
   "id": "2bd7997d-3eee-4821-a54e-61e86a5e3b74",
   "metadata": {},
   "source": [
    "2. Now we will try to check the normality of the numerical variables visually\n",
    "- Use seaborn library to construct distribution plots for the numerical variables\n",
    "- Use Matplotlib to construct histograms\n",
    "- Do the distributions for different numerical variables look like a normal distribution"
   ]
  },
  {
   "cell_type": "markdown",
   "id": "878af39d-0872-4c5e-9dbe-de9f287d354d",
   "metadata": {},
   "source": [
    "3. For the numerical variables, check the multicollinearity between the features. Please note that we will use the column total_claim_amount later as the target variable."
   ]
  },
  {
   "cell_type": "markdown",
   "id": "b1efb577-f409-44e7-9ad4-27355069f522",
   "metadata": {},
   "source": [
    "4. Drop one of the two features that show a high correlation between them (greater than 0.9). Write code for both the correlation matrix and for seaborn heatmap. If there is no pair of features that have a high correlation, then do not drop any features"
   ]
  }
 ],
 "metadata": {
  "kernelspec": {
   "display_name": "Python 3 (ipykernel)",
   "language": "python",
   "name": "python3"
  },
  "language_info": {
   "codemirror_mode": {
    "name": "ipython",
    "version": 3
   },
   "file_extension": ".py",
   "mimetype": "text/x-python",
   "name": "python",
   "nbconvert_exporter": "python",
   "pygments_lexer": "ipython3",
   "version": "3.9.7"
  }
 },
 "nbformat": 4,
 "nbformat_minor": 5
}
