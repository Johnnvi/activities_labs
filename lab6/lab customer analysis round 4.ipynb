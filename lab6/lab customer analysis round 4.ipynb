{
 "cells": [
  {
   "cell_type": "code",
   "execution_count": 11,
   "id": "f3f8b69c-a36b-46f3-a1e0-cc4c7516df43",
   "metadata": {
    "tags": []
   },
   "outputs": [],
   "source": [
    "import pandas as pd\n",
    "import numpy as np\n",
    "from scipy.stats import norm\n",
    "import math\n",
    "import matplotlib.pyplot as plt\n",
    "%matplotlib inline"
   ]
  },
  {
   "cell_type": "code",
   "execution_count": 12,
   "id": "875a4e33-b71d-4473-a1ba-98ae4a9594de",
   "metadata": {},
   "outputs": [],
   "source": [
    "normal = norm(0, math.sqrt(9))\n",
    "# print(normal.pdf(4))\n",
    "# print(normal.cdf(2))\n",
    "# print(normal.rvs())"
   ]
  },
  {
   "cell_type": "code",
   "execution_count": 17,
   "id": "829ab257-829c-4340-ad2c-b9af14e6534b",
   "metadata": {
    "tags": []
   },
   "outputs": [],
   "source": [
    "data = pd.read_csv('marketing_customer_analysis.csv')"
   ]
  },
  {
   "cell_type": "markdown",
   "id": "decf09b3-c640-4d26-80c3-a719a2ae7f57",
   "metadata": {},
   "source": [
    "1. Check the data types of the columns. Get the numeric data into dataframe called numerical and categorical columns in a dataframe called categoricals. (You can use np.number and np.object to select the numerical data types and categorical data types respectively)"
   ]
  },
  {
   "cell_type": "code",
   "execution_count": null,
   "id": "3c99120d-abd8-4b8c-abfb-7e8d3c00e736",
   "metadata": {},
   "outputs": [],
   "source": [
    "data.columns().dtypes"
   ]
  },
  {
   "cell_type": "markdown",
   "id": "2bd7997d-3eee-4821-a54e-61e86a5e3b74",
   "metadata": {},
   "source": [
    "2. Now we will try to check the normality of the numerical variables visually\n",
    "- Use seaborn library to construct distribution plots for the numerical variables\n",
    "- Use Matplotlib to construct histograms\n",
    "- Do the distributions for different numerical variables look like a normal distribution"
   ]
  },
  {
   "cell_type": "markdown",
   "id": "878af39d-0872-4c5e-9dbe-de9f287d354d",
   "metadata": {},
   "source": [
    "3. For the numerical variables, check the multicollinearity between the features. Please note that we will use the column total_claim_amount later as the target variable."
   ]
  },
  {
   "cell_type": "markdown",
   "id": "b1efb577-f409-44e7-9ad4-27355069f522",
   "metadata": {},
   "source": [
    "4. Drop one of the two features that show a high correlation between them (greater than 0.9). Write code for both the correlation matrix and for seaborn heatmap. If there is no pair of features that have a high correlation, then do not drop any features"
   ]
  }
 ],
 "metadata": {
  "kernelspec": {
   "display_name": "Python 3 (ipykernel)",
   "language": "python",
   "name": "python3"
  },
  "language_info": {
   "codemirror_mode": {
    "name": "ipython",
    "version": 3
   },
   "file_extension": ".py",
   "mimetype": "text/x-python",
   "name": "python",
   "nbconvert_exporter": "python",
   "pygments_lexer": "ipython3",
   "version": "3.9.7"
  }
 },
 "nbformat": 4,
 "nbformat_minor": 5
}
